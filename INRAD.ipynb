{
  "nbformat": 4,
  "nbformat_minor": 0,
  "metadata": {
    "colab": {
      "provenance": []
    },
    "kernelspec": {
      "name": "python3",
      "display_name": "Python 3"
    },
    "language_info": {
      "name": "python"
    }
  },
  "cells": [
    {
      "cell_type": "code",
      "execution_count": 13,
      "metadata": {
        "id": "HG58yTFycMAP"
      },
      "outputs": [],
      "source": [
        "from tqdm import tqdm_notebook\n",
        "from itertools import product\n",
        "import pandas as pd\n",
        "import numpy as np\n",
        "import matplotlib.pyplot as plt\n",
        "import statsmodels.api as sm\n",
        "from sklearn.model_selection import train_test_split\n",
        "import torch\n",
        "from torch.utils.data import DataLoader\n",
        "import torch.nn.functional as F\n",
        "from torch._C import device\n",
        "import utils\n",
        "import eval_methods\n",
        "import modules\n",
        "import time\n",
        "device = torch.device(f\"cuda:{0}\" if torch.cuda.is_available() else \"cpu\")\n"
      ]
    },
    {
      "cell_type": "markdown",
      "source": [
        "## Dataset"
      ],
      "metadata": {
        "id": "iO8sMEeSDddN"
      }
    },
    {
      "cell_type": "code",
      "source": [
        "filepath = 'https://raw.githubusercontent.com/selva86/datasets/master/Raotbl6.csv'\n",
        "macro_data = pd.read_csv(filepath, parse_dates=['date'], index_col='date')\n",
        "print(macro_data.shape)  # (123, 8)\n",
        "macro_data.head()"
      ],
      "metadata": {
        "id": "vkY_HF_pc14r",
        "colab": {
          "base_uri": "https://localhost:8080/",
          "height": 255
        },
        "outputId": "35bad3b6-fecf-425d-fea7-dea88d2259dd"
      },
      "execution_count": 3,
      "outputs": [
        {
          "output_type": "stream",
          "name": "stdout",
          "text": [
            "(123, 8)\n"
          ]
        },
        {
          "output_type": "execute_result",
          "data": {
            "text/plain": [
              "              rgnp    pgnp   ulc  gdfco   gdf  gdfim  gdfcf  gdfce\n",
              "date                                                              \n",
              "1959-01-01  1606.4  1608.3  47.5   36.9  37.4   26.9   32.3   23.1\n",
              "1959-04-01  1637.0  1622.2  47.5   37.4  37.5   27.0   32.2   23.4\n",
              "1959-07-01  1629.5  1636.2  48.7   37.6  37.6   27.1   32.4   23.4\n",
              "1959-10-01  1643.4  1650.3  48.8   37.7  37.8   27.1   32.5   23.8\n",
              "1960-01-01  1671.6  1664.6  49.1   37.8  37.8   27.2   32.4   23.8"
            ],
            "text/html": [
              "\n",
              "\n",
              "  <div id=\"df-e3a0b03b-34b7-4174-af2e-c6fed100da2c\">\n",
              "    <div class=\"colab-df-container\">\n",
              "      <div>\n",
              "<style scoped>\n",
              "    .dataframe tbody tr th:only-of-type {\n",
              "        vertical-align: middle;\n",
              "    }\n",
              "\n",
              "    .dataframe tbody tr th {\n",
              "        vertical-align: top;\n",
              "    }\n",
              "\n",
              "    .dataframe thead th {\n",
              "        text-align: right;\n",
              "    }\n",
              "</style>\n",
              "<table border=\"1\" class=\"dataframe\">\n",
              "  <thead>\n",
              "    <tr style=\"text-align: right;\">\n",
              "      <th></th>\n",
              "      <th>rgnp</th>\n",
              "      <th>pgnp</th>\n",
              "      <th>ulc</th>\n",
              "      <th>gdfco</th>\n",
              "      <th>gdf</th>\n",
              "      <th>gdfim</th>\n",
              "      <th>gdfcf</th>\n",
              "      <th>gdfce</th>\n",
              "    </tr>\n",
              "    <tr>\n",
              "      <th>date</th>\n",
              "      <th></th>\n",
              "      <th></th>\n",
              "      <th></th>\n",
              "      <th></th>\n",
              "      <th></th>\n",
              "      <th></th>\n",
              "      <th></th>\n",
              "      <th></th>\n",
              "    </tr>\n",
              "  </thead>\n",
              "  <tbody>\n",
              "    <tr>\n",
              "      <th>1959-01-01</th>\n",
              "      <td>1606.4</td>\n",
              "      <td>1608.3</td>\n",
              "      <td>47.5</td>\n",
              "      <td>36.9</td>\n",
              "      <td>37.4</td>\n",
              "      <td>26.9</td>\n",
              "      <td>32.3</td>\n",
              "      <td>23.1</td>\n",
              "    </tr>\n",
              "    <tr>\n",
              "      <th>1959-04-01</th>\n",
              "      <td>1637.0</td>\n",
              "      <td>1622.2</td>\n",
              "      <td>47.5</td>\n",
              "      <td>37.4</td>\n",
              "      <td>37.5</td>\n",
              "      <td>27.0</td>\n",
              "      <td>32.2</td>\n",
              "      <td>23.4</td>\n",
              "    </tr>\n",
              "    <tr>\n",
              "      <th>1959-07-01</th>\n",
              "      <td>1629.5</td>\n",
              "      <td>1636.2</td>\n",
              "      <td>48.7</td>\n",
              "      <td>37.6</td>\n",
              "      <td>37.6</td>\n",
              "      <td>27.1</td>\n",
              "      <td>32.4</td>\n",
              "      <td>23.4</td>\n",
              "    </tr>\n",
              "    <tr>\n",
              "      <th>1959-10-01</th>\n",
              "      <td>1643.4</td>\n",
              "      <td>1650.3</td>\n",
              "      <td>48.8</td>\n",
              "      <td>37.7</td>\n",
              "      <td>37.8</td>\n",
              "      <td>27.1</td>\n",
              "      <td>32.5</td>\n",
              "      <td>23.8</td>\n",
              "    </tr>\n",
              "    <tr>\n",
              "      <th>1960-01-01</th>\n",
              "      <td>1671.6</td>\n",
              "      <td>1664.6</td>\n",
              "      <td>49.1</td>\n",
              "      <td>37.8</td>\n",
              "      <td>37.8</td>\n",
              "      <td>27.2</td>\n",
              "      <td>32.4</td>\n",
              "      <td>23.8</td>\n",
              "    </tr>\n",
              "  </tbody>\n",
              "</table>\n",
              "</div>\n",
              "      <button class=\"colab-df-convert\" onclick=\"convertToInteractive('df-e3a0b03b-34b7-4174-af2e-c6fed100da2c')\"\n",
              "              title=\"Convert this dataframe to an interactive table.\"\n",
              "              style=\"display:none;\">\n",
              "\n",
              "  <svg xmlns=\"http://www.w3.org/2000/svg\" height=\"24px\"viewBox=\"0 0 24 24\"\n",
              "       width=\"24px\">\n",
              "    <path d=\"M0 0h24v24H0V0z\" fill=\"none\"/>\n",
              "    <path d=\"M18.56 5.44l.94 2.06.94-2.06 2.06-.94-2.06-.94-.94-2.06-.94 2.06-2.06.94zm-11 1L8.5 8.5l.94-2.06 2.06-.94-2.06-.94L8.5 2.5l-.94 2.06-2.06.94zm10 10l.94 2.06.94-2.06 2.06-.94-2.06-.94-.94-2.06-.94 2.06-2.06.94z\"/><path d=\"M17.41 7.96l-1.37-1.37c-.4-.4-.92-.59-1.43-.59-.52 0-1.04.2-1.43.59L10.3 9.45l-7.72 7.72c-.78.78-.78 2.05 0 2.83L4 21.41c.39.39.9.59 1.41.59.51 0 1.02-.2 1.41-.59l7.78-7.78 2.81-2.81c.8-.78.8-2.07 0-2.86zM5.41 20L4 18.59l7.72-7.72 1.47 1.35L5.41 20z\"/>\n",
              "  </svg>\n",
              "      </button>\n",
              "\n",
              "\n",
              "\n",
              "    <div id=\"df-5b96b211-8772-4264-9685-9fc62791305f\">\n",
              "      <button class=\"colab-df-quickchart\" onclick=\"quickchart('df-5b96b211-8772-4264-9685-9fc62791305f')\"\n",
              "              title=\"Suggest charts.\"\n",
              "              style=\"display:none;\">\n",
              "\n",
              "<svg xmlns=\"http://www.w3.org/2000/svg\" height=\"24px\"viewBox=\"0 0 24 24\"\n",
              "     width=\"24px\">\n",
              "    <g>\n",
              "        <path d=\"M19 3H5c-1.1 0-2 .9-2 2v14c0 1.1.9 2 2 2h14c1.1 0 2-.9 2-2V5c0-1.1-.9-2-2-2zM9 17H7v-7h2v7zm4 0h-2V7h2v10zm4 0h-2v-4h2v4z\"/>\n",
              "    </g>\n",
              "</svg>\n",
              "      </button>\n",
              "    </div>\n",
              "\n",
              "<style>\n",
              "  .colab-df-quickchart {\n",
              "    background-color: #E8F0FE;\n",
              "    border: none;\n",
              "    border-radius: 50%;\n",
              "    cursor: pointer;\n",
              "    display: none;\n",
              "    fill: #1967D2;\n",
              "    height: 32px;\n",
              "    padding: 0 0 0 0;\n",
              "    width: 32px;\n",
              "  }\n",
              "\n",
              "  .colab-df-quickchart:hover {\n",
              "    background-color: #E2EBFA;\n",
              "    box-shadow: 0px 1px 2px rgba(60, 64, 67, 0.3), 0px 1px 3px 1px rgba(60, 64, 67, 0.15);\n",
              "    fill: #174EA6;\n",
              "  }\n",
              "\n",
              "  [theme=dark] .colab-df-quickchart {\n",
              "    background-color: #3B4455;\n",
              "    fill: #D2E3FC;\n",
              "  }\n",
              "\n",
              "  [theme=dark] .colab-df-quickchart:hover {\n",
              "    background-color: #434B5C;\n",
              "    box-shadow: 0px 1px 3px 1px rgba(0, 0, 0, 0.15);\n",
              "    filter: drop-shadow(0px 1px 2px rgba(0, 0, 0, 0.3));\n",
              "    fill: #FFFFFF;\n",
              "  }\n",
              "</style>\n",
              "\n",
              "    <script>\n",
              "      async function quickchart(key) {\n",
              "        const containerElement = document.querySelector('#' + key);\n",
              "        const charts = await google.colab.kernel.invokeFunction(\n",
              "            'suggestCharts', [key], {});\n",
              "      }\n",
              "    </script>\n",
              "\n",
              "      <script>\n",
              "\n",
              "function displayQuickchartButton(domScope) {\n",
              "  let quickchartButtonEl =\n",
              "    domScope.querySelector('#df-5b96b211-8772-4264-9685-9fc62791305f button.colab-df-quickchart');\n",
              "  quickchartButtonEl.style.display =\n",
              "    google.colab.kernel.accessAllowed ? 'block' : 'none';\n",
              "}\n",
              "\n",
              "        displayQuickchartButton(document);\n",
              "      </script>\n",
              "      <style>\n",
              "    .colab-df-container {\n",
              "      display:flex;\n",
              "      flex-wrap:wrap;\n",
              "      gap: 12px;\n",
              "    }\n",
              "\n",
              "    .colab-df-convert {\n",
              "      background-color: #E8F0FE;\n",
              "      border: none;\n",
              "      border-radius: 50%;\n",
              "      cursor: pointer;\n",
              "      display: none;\n",
              "      fill: #1967D2;\n",
              "      height: 32px;\n",
              "      padding: 0 0 0 0;\n",
              "      width: 32px;\n",
              "    }\n",
              "\n",
              "    .colab-df-convert:hover {\n",
              "      background-color: #E2EBFA;\n",
              "      box-shadow: 0px 1px 2px rgba(60, 64, 67, 0.3), 0px 1px 3px 1px rgba(60, 64, 67, 0.15);\n",
              "      fill: #174EA6;\n",
              "    }\n",
              "\n",
              "    [theme=dark] .colab-df-convert {\n",
              "      background-color: #3B4455;\n",
              "      fill: #D2E3FC;\n",
              "    }\n",
              "\n",
              "    [theme=dark] .colab-df-convert:hover {\n",
              "      background-color: #434B5C;\n",
              "      box-shadow: 0px 1px 3px 1px rgba(0, 0, 0, 0.15);\n",
              "      filter: drop-shadow(0px 1px 2px rgba(0, 0, 0, 0.3));\n",
              "      fill: #FFFFFF;\n",
              "    }\n",
              "  </style>\n",
              "\n",
              "      <script>\n",
              "        const buttonEl =\n",
              "          document.querySelector('#df-e3a0b03b-34b7-4174-af2e-c6fed100da2c button.colab-df-convert');\n",
              "        buttonEl.style.display =\n",
              "          google.colab.kernel.accessAllowed ? 'block' : 'none';\n",
              "\n",
              "        async function convertToInteractive(key) {\n",
              "          const element = document.querySelector('#df-e3a0b03b-34b7-4174-af2e-c6fed100da2c');\n",
              "          const dataTable =\n",
              "            await google.colab.kernel.invokeFunction('convertToInteractive',\n",
              "                                                     [key], {});\n",
              "          if (!dataTable) return;\n",
              "\n",
              "          const docLinkHtml = 'Like what you see? Visit the ' +\n",
              "            '<a target=\"_blank\" href=https://colab.research.google.com/notebooks/data_table.ipynb>data table notebook</a>'\n",
              "            + ' to learn more about interactive tables.';\n",
              "          element.innerHTML = '';\n",
              "          dataTable['output_type'] = 'display_data';\n",
              "          await google.colab.output.renderOutput(dataTable, element);\n",
              "          const docLink = document.createElement('div');\n",
              "          docLink.innerHTML = docLinkHtml;\n",
              "          element.appendChild(docLink);\n",
              "        }\n",
              "      </script>\n",
              "    </div>\n",
              "  </div>\n"
            ]
          },
          "metadata": {},
          "execution_count": 3
        }
      ]
    },
    {
      "cell_type": "code",
      "source": [
        "date=pd.to_datetime(macro_data.index)"
      ],
      "metadata": {
        "id": "Ecgos8iEda1X"
      },
      "execution_count": 4,
      "outputs": []
    },
    {
      "cell_type": "code",
      "source": [
        "train,test = train_test_split(macro_data, test_size=0.2, random_state=42)"
      ],
      "metadata": {
        "id": "p2XvVqeWeeg0"
      },
      "execution_count": 5,
      "outputs": []
    },
    {
      "cell_type": "code",
      "source": [
        "train.shape"
      ],
      "metadata": {
        "colab": {
          "base_uri": "https://localhost:8080/"
        },
        "id": "M7kOaNB1e8Mp",
        "outputId": "1c98a9c2-c226-49ba-bab8-a032cce33582"
      },
      "execution_count": 6,
      "outputs": [
        {
          "output_type": "execute_result",
          "data": {
            "text/plain": [
              "(98, 8)"
            ]
          },
          "metadata": {},
          "execution_count": 6
        }
      ]
    },
    {
      "cell_type": "code",
      "source": [
        "test.shape"
      ],
      "metadata": {
        "colab": {
          "base_uri": "https://localhost:8080/"
        },
        "id": "N1hbJNT5fScK",
        "outputId": "c54fe3ae-e76d-4dfe-9b32-4b6bc43f5daf"
      },
      "execution_count": 7,
      "outputs": [
        {
          "output_type": "execute_result",
          "data": {
            "text/plain": [
              "(25, 8)"
            ]
          },
          "metadata": {},
          "execution_count": 7
        }
      ]
    },
    {
      "cell_type": "code",
      "source": [
        "date_train=date[:98]\n",
        "date_test=date[98:]"
      ],
      "metadata": {
        "id": "9-Ko1_mVeMiy"
      },
      "execution_count": 8,
      "outputs": []
    },
    {
      "cell_type": "code",
      "source": [
        "date_train.shape"
      ],
      "metadata": {
        "colab": {
          "base_uri": "https://localhost:8080/"
        },
        "id": "gzkWy04DfHyQ",
        "outputId": "7e7e15b6-8f1a-4891-893a-b6f34ce49b4e"
      },
      "execution_count": 9,
      "outputs": [
        {
          "output_type": "execute_result",
          "data": {
            "text/plain": [
              "(98,)"
            ]
          },
          "metadata": {},
          "execution_count": 9
        }
      ]
    },
    {
      "cell_type": "code",
      "source": [
        "date_test.shape"
      ],
      "metadata": {
        "colab": {
          "base_uri": "https://localhost:8080/"
        },
        "id": "hzw_9K0hfUCi",
        "outputId": "cab07a71-fd16-4a52-81d4-8b895417c733"
      },
      "execution_count": 10,
      "outputs": [
        {
          "output_type": "execute_result",
          "data": {
            "text/plain": [
              "(25,)"
            ]
          },
          "metadata": {},
          "execution_count": 10
        }
      ]
    },
    {
      "cell_type": "markdown",
      "source": [
        "## Encode the timstamps"
      ],
      "metadata": {
        "id": "NCzv_U6lDooP"
      }
    },
    {
      "cell_type": "code",
      "source": [
        "train_encoded_input = modules.temporal_encoding(date_train)\n",
        "test_encoded_input=modules.temporal_encoding(date_test)"
      ],
      "metadata": {
        "colab": {
          "base_uri": "https://localhost:8080/"
        },
        "id": "fKTLHrZ2dtbr",
        "outputId": "23e4f7ce-5514-44e1-caf2-fb9a4742e9fc"
      },
      "execution_count": 14,
      "outputs": [
        {
          "output_type": "stream",
          "name": "stdout",
          "text": [
            "               y   m  d  h  min  s\n",
            "date                              \n",
            "1959-01-01  1959   1  1  0    0  0\n",
            "1959-04-01  1959   4  1  0    0  0\n",
            "1959-07-01  1959   7  1  0    0  0\n",
            "1959-10-01  1959  10  1  0    0  0\n",
            "1960-01-01  1960   1  1  0    0  0\n",
            "...          ...  .. .. ..  ... ..\n",
            "1982-04-01  1982   4  1  0    0  0\n",
            "1982-07-01  1982   7  1  0    0  0\n",
            "1982-10-01  1982  10  1  0    0  0\n",
            "1983-01-01  1983   1  1  0    0  0\n",
            "1983-04-01  1983   4  1  0    0  0\n",
            "\n",
            "[98 rows x 6 columns]\n",
            "               y   m  d  h  min  s\n",
            "date                              \n",
            "1983-07-01  1983   7  1  0    0  0\n",
            "1983-10-01  1983  10  1  0    0  0\n",
            "1984-01-01  1984   1  1  0    0  0\n",
            "1984-04-01  1984   4  1  0    0  0\n",
            "1984-07-01  1984   7  1  0    0  0\n",
            "1984-10-01  1984  10  1  0    0  0\n",
            "1985-01-01  1985   1  1  0    0  0\n",
            "1985-04-01  1985   4  1  0    0  0\n",
            "1985-07-01  1985   7  1  0    0  0\n",
            "1985-10-01  1985  10  1  0    0  0\n",
            "1986-01-01  1986   1  1  0    0  0\n",
            "1986-04-01  1986   4  1  0    0  0\n",
            "1986-07-01  1986   7  1  0    0  0\n",
            "1986-10-01  1986  10  1  0    0  0\n",
            "1987-01-01  1987   1  1  0    0  0\n",
            "1987-04-01  1987   4  1  0    0  0\n",
            "1987-07-01  1987   7  1  0    0  0\n",
            "1987-10-01  1987  10  1  0    0  0\n",
            "1988-01-01  1988   1  1  0    0  0\n",
            "1988-04-01  1988   4  1  0    0  0\n",
            "1988-07-01  1988   7  1  0    0  0\n",
            "1988-10-01  1988  10  1  0    0  0\n",
            "1989-01-01  1989   1  1  0    0  0\n",
            "1989-04-01  1989   4  1  0    0  0\n",
            "1989-07-01  1989   7  1  0    0  0\n"
          ]
        }
      ]
    },
    {
      "cell_type": "code",
      "source": [
        "train=train.values\n",
        "test=test.values"
      ],
      "metadata": {
        "id": "XPmBUVOEgFu1"
      },
      "execution_count": 15,
      "outputs": []
    },
    {
      "cell_type": "markdown",
      "source": [
        "## Train the model on the train dataset"
      ],
      "metadata": {
        "id": "OZ7HcIaCDwXb"
      }
    },
    {
      "cell_type": "code",
      "source": [
        "hidden_dim=256\n",
        "batch_size=32 # 32)\n",
        "epochs=1 # For simplicity, we set it as 1, however originally we set it as 10000\n",
        "earlystopping_patience=30\n",
        "first_omega_0=3000\n",
        "\n",
        "# Model initialization\n",
        "\n",
        "model = modules.Siren(\n",
        "    in_features=train_encoded_input.shape[1],\n",
        "    out_features=train.shape[1],\n",
        "    hidden_features=hidden_dim,\n",
        "    hidden_layers=3,\n",
        "    first_omega_0=first_omega_0,\n",
        "    outermost_linear=True,\n",
        ")\n",
        "model.to(device)\n",
        "\n",
        "optim = torch.optim.Adam(lr=1e-4, params=model.parameters())"
      ],
      "metadata": {
        "id": "8KQtgnvafZfZ"
      },
      "execution_count": 17,
      "outputs": []
    },
    {
      "cell_type": "code",
      "source": [
        "data_train = modules.Timedata(train, train_encoded_input)\n",
        "train_dataloader = DataLoader(\n",
        "    data_train,\n",
        "    shuffle=True,\n",
        "    batch_size=batch_size,\n",
        "    pin_memory=True,\n",
        "    num_workers=0,\n",
        ")\n",
        "\n",
        "early_stopping = utils.EarlyStopping(\n",
        "    patience=earlystopping_patience, verbose=False\n",
        ")\n",
        "\n",
        "epoch_time = []\n",
        "for step in range(epochs):\n",
        "    epoch_start = time.time()\n",
        "    model_loss = 0\n",
        "    for batch_model_input, batch_ground_truth in train_dataloader:\n",
        "        batch_model_input = batch_model_input.to(device)\n",
        "        batch_ground_truth = batch_ground_truth.to(device)\n",
        "\n",
        "        batch_model_output, _ = model(batch_model_input)\n",
        "        loss = F.mse_loss(batch_model_output, batch_ground_truth)\n",
        "        optim.zero_grad()\n",
        "        loss.backward()\n",
        "        optim.step()\n",
        "        model_loss += loss.item()\n",
        "        batch_model_input = batch_model_input.detach().cpu()\n",
        "        batch_ground_truth = batch_ground_truth.detach().cpu()\n",
        "    epoch_time.append(time.time() - epoch_start)\n",
        "    early_stopping(model_loss)\n",
        "    if early_stopping.early_stop:\n",
        "        break\n",
        "\n",
        "print(\"average training time per epoch: \", np.mean(epoch_time))"
      ],
      "metadata": {
        "colab": {
          "base_uri": "https://localhost:8080/"
        },
        "id": "ykQDIyX_gPTz",
        "outputId": "f7ada0f4-3880-4a1f-c6fa-b21e33972fc0"
      },
      "execution_count": 18,
      "outputs": [
        {
          "output_type": "stream",
          "name": "stdout",
          "text": [
            "average training time per epoch:  0.14271235466003418\n"
          ]
        }
      ]
    },
    {
      "cell_type": "markdown",
      "source": [
        "## Retrain the model on the test set"
      ],
      "metadata": {
        "id": "GQ6ampSYD4Nb"
      }
    },
    {
      "cell_type": "code",
      "source": [
        "data_test = modules.Timedata(test, test_encoded_input)\n",
        "test_dataloader = DataLoader(\n",
        "    data_test,\n",
        "    shuffle=True,\n",
        "    batch_size=batch_size,\n",
        "    pin_memory=True,\n",
        "    num_workers=0,\n",
        ")\n",
        "\n",
        "early_stopping = utils.EarlyStopping(\n",
        "    patience=earlystopping_patience, verbose=False\n",
        ")\n",
        "\n",
        "print(\"re-training start\")\n",
        "for step in range(epochs):\n",
        "    epoch_start = time.time()\n",
        "    model_loss = 0\n",
        "    for batch_model_input, batch_ground_truth in train_dataloader:\n",
        "        batch_model_input = batch_model_input.to(device)\n",
        "        batch_ground_truth = batch_ground_truth.to(device)\n",
        "        batch_model_output, _ = model(batch_model_input)\n",
        "        loss = F.mse_loss(batch_model_output, batch_ground_truth)\n",
        "        optim.zero_grad()\n",
        "        loss.backward()\n",
        "        optim.step()\n",
        "        model_loss += loss.item()\n",
        "        batch_model_input = batch_model_input.detach().cpu()\n",
        "        batch_ground_truth = batch_ground_truth.detach().cpu()\n",
        "    early_stopping(model_loss)\n",
        "    if early_stopping.early_stop:\n",
        "        break\n",
        "print(\"re-training end\")"
      ],
      "metadata": {
        "colab": {
          "base_uri": "https://localhost:8080/"
        },
        "id": "9JG4AJhfgibx",
        "outputId": "7b0f67f2-b528-4098-dca0-ae43570db59b"
      },
      "execution_count": 19,
      "outputs": [
        {
          "output_type": "stream",
          "name": "stdout",
          "text": [
            "re-training start\n",
            "re-training end\n"
          ]
        }
      ]
    },
    {
      "cell_type": "code",
      "source": [
        "total_input = data_test.timepoints\n",
        "model = model.cpu()\n",
        "total_ground_truth = data_test.data_ready\n",
        "total_model_output, _ = model(total_input)\n",
        "\n",
        "anomaly_score = np.mean(\n",
        "    np.abs(\n",
        "        np.squeeze(\n",
        "            total_ground_truth.numpy()\n",
        "            - total_model_output.detach().cpu().numpy()\n",
        "        )\n",
        "    ),\n",
        "    axis=1,\n",
        ")\n"
      ],
      "metadata": {
        "id": "ZTz4VcKugkuc"
      },
      "execution_count": 20,
      "outputs": []
    },
    {
      "cell_type": "markdown",
      "source": [
        "### Threshold"
      ],
      "metadata": {
        "id": "V6NP604TCaIv"
      }
    },
    {
      "cell_type": "markdown",
      "source": [
        "to find the nest threshold we us the function eval_methods.bf_search to search for the best F1 score corresponding to the best threshold.but the data need to be labeled and I did,'t find any labeled dataset"
      ],
      "metadata": {
        "id": "CZ-XKi0uCfBc"
      }
    },
    {
      "cell_type": "code",
      "source": [
        "accuracy, threshold = eval_methods.bf_search(anomaly_score, y_test, verbose = False)\n",
        "print(\"Precision: {}, Recall {}, F1-score: {}\".format(accuracy[1], accuracy[2], accuracy[0]))"
      ],
      "metadata": {
        "colab": {
          "base_uri": "https://localhost:8080/"
        },
        "id": "ZnUCozsWgs-h",
        "outputId": "fb21b5af-c45e-4e78-b5a7-9521a72e950d"
      },
      "execution_count": null,
      "outputs": [
        {
          "output_type": "execute_result",
          "data": {
            "text/plain": [
              "(25,)"
            ]
          },
          "metadata": {},
          "execution_count": 50
        }
      ]
    }
  ]
}